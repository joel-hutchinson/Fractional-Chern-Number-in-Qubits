{
 "cells": [
  {
   "cell_type": "markdown",
   "metadata": {},
   "source": [
    "# Basic Cirq features"
   ]
  },
  {
   "cell_type": "markdown",
   "metadata": {},
   "source": [
    "Here we get aquainted with some basic Cirq features. First import the relevant packages:"
   ]
  },
  {
   "cell_type": "code",
   "execution_count": 1,
   "metadata": {},
   "outputs": [],
   "source": [
    "import cirq\n",
    "import numpy as np\n",
    "import matplotlib.pyplot as plt\n",
    "import sympy # This is useful for defining parameters as symbols that can be iterated over"
   ]
  },
  {
   "cell_type": "markdown",
   "metadata": {},
   "source": [
    "There are several ways to initialize qubits in Cirq:"
   ]
  },
  {
   "cell_type": "code",
   "execution_count": 4,
   "metadata": {},
   "outputs": [],
   "source": [
    "q0 = cirq.NamedQubit('Bob') #Named qubits\n",
    "q1 = cirq.NamedQubit('Alice')\n",
    "\n",
    "q3 = cirq.LineQubit(3) #qubit in a chain\n",
    "\n",
    "q0, q1, q2 = cirq.LineQubit.range(3) #chain of 3 qubits\n",
    "\n",
    "q4_5 = cirq.GridQubit(4,5) #qubit in a grid\n",
    "\n",
    "qubits = cirq.GridQubit.square(4) #16 qubits in a square"
   ]
  },
  {
   "cell_type": "markdown",
   "metadata": {},
   "source": [
    "There are also many pre-coded gates: controlled not, Pauli gates (which can be raised to any power), swap, Hadamard, etc. "
   ]
  },
  {
   "cell_type": "code",
   "execution_count": 5,
   "metadata": {},
   "outputs": [],
   "source": [
    "not_gate = cirq.CNOT\n",
    "pauli_z = cirq.Z\n",
    "sqrt_x_gate = cirq.X**0.5\n",
    "sqrt_iswap = cirq.ISWAP**0.5\n",
    "sqrt_sqrt_y = cirq.YPowGate(exponent=0.25)"
   ]
  },
  {
   "cell_type": "markdown",
   "metadata": {},
   "source": [
    "Gates are applied to 1, 2, or 3 qubits. The action of a gate on a set of qubits is an operation. Operations are the building blocks of circuits."
   ]
  },
  {
   "cell_type": "code",
   "execution_count": 6,
   "metadata": {},
   "outputs": [],
   "source": [
    "q0, q1 = cirq.LineQubit.range(2)\n",
    "z_op = cirq.Z(q0)\n",
    "not_op = cirq.CNOT(q0,q1)\n",
    "sqrt_iswap_op = sqrt_iswap(q0,q1)"
   ]
  },
  {
   "cell_type": "markdown",
   "metadata": {},
   "source": [
    "Circuits are initialized with cirq.Circuit(). Operations are appended to the circuit to build it sequentially. Here we print out 2 different circuits. One with 3 Hadamards and one with 3 controlled nots."
   ]
  },
  {
   "cell_type": "code",
   "execution_count": 7,
   "metadata": {},
   "outputs": [
    {
     "name": "stdout",
     "output_type": "stream",
     "text": [
      "0: ───H───\n",
      "\n",
      "1: ───H───\n",
      "\n",
      "2: ───H───\n",
      "\n",
      "0: ───@───────────\n",
      "      │\n",
      "1: ───X───@───────\n",
      "          │\n",
      "2: ───────X───@───\n",
      "              │\n",
      "3: ───────────X───\n"
     ]
    }
   ],
   "source": [
    "circuit = cirq.Circuit()\n",
    "circuit.append(cirq.H(q) for q in cirq.LineQubit.range(3))\n",
    "print(circuit)\n",
    "print()\n",
    "print(cirq.Circuit(cirq.CNOT(q,q+1) for q in cirq.LineQubit.range(3)))"
   ]
  },
  {
   "cell_type": "markdown",
   "metadata": {},
   "source": [
    "Let's create a simple circuit to produce an entangled Bell pair just using a Hadamard and controlled not. Then simulate the circuit and look at the wavefunction"
   ]
  },
  {
   "cell_type": "code",
   "execution_count": 8,
   "metadata": {},
   "outputs": [
    {
     "name": "stdout",
     "output_type": "stream",
     "text": [
      "0: ───H───@───\n",
      "          │\n",
      "1: ───────X───\n",
      "measurements: (no measurements)\n",
      "output vector: 0.707|00⟩ + 0.707|11⟩\n"
     ]
    }
   ],
   "source": [
    "bell_circuit = cirq.Circuit()\n",
    "q0, q1 = cirq.LineQubit.range(2)\n",
    "bell_circuit.append(cirq.H(q0))\n",
    "bell_circuit.append(cirq.CNOT(q0,q1))\n",
    "print(bell_circuit)\n",
    "\n",
    "s = cirq.Simulator()\n",
    "results = s.simulate(bell_circuit)\n",
    "print(results)"
   ]
  },
  {
   "cell_type": "markdown",
   "metadata": {},
   "source": [
    "Becasue this is a quantum simulator, we can print the wavefunction whenever we like, but in a real quantum computer, we can only perform measurements. This is done by adding a measure gate to the circuit."
   ]
  },
  {
   "cell_type": "code",
   "execution_count": 9,
   "metadata": {},
   "outputs": [
    {
     "name": "stdout",
     "output_type": "stream",
     "text": [
      "Counter({3: 508, 0: 492})\n",
      "0\n"
     ]
    }
   ],
   "source": [
    "bell_circuit.append(cirq.measure(q0,q1, key='result'))\n",
    "samples = s.run(bell_circuit, repetitions=1000)\n",
    "print(samples.histogram(key='result'))\n",
    "print(samples.histogram(key='result')[1])"
   ]
  },
  {
   "cell_type": "markdown",
   "metadata": {},
   "source": [
    "The output of a \"run\" of simulations takes the form {state 1: # of observations 1, state 2: # of observations of 2,...}. For a two qubit system, the states are indexed as $0\\equiv|00\\rangle$, $1\\equiv|01\\rangle$, $2\\equiv|10\\rangle$, and $3\\equiv|11\\rangle$."
   ]
  },
  {
   "cell_type": "markdown",
   "metadata": {},
   "source": [
    "To make things more interesting we can sweep through a range of parameter values in a gate. For example we can look at the effect of the gate $\\sigma_x^t$ for different values of $t$ and plot the result averaging over 1000 simulations."
   ]
  },
  {
   "cell_type": "code",
   "execution_count": 10,
   "metadata": {},
   "outputs": [
    {
     "data": {
      "text/plain": [
       "<matplotlib.collections.PathCollection at 0x1a1af8de10>"
      ]
     },
     "execution_count": 10,
     "metadata": {},
     "output_type": "execute_result"
    },
    {
     "data": {
      "image/png": "[encoded data removed]",
      "text/plain": [
       "<Figure size 432x288 with 1 Axes>"
      ]
     },
     "metadata": {
      "needs_background": "light"
     },
     "output_type": "display_data"
    }
   ],
   "source": [
    "q = cirq.GridQubit(1,1)\n",
    "circuit = cirq.Circuit(cirq.X(q)**sympy.Symbol('t'), cirq.measure(q,key='m'))\n",
    "\n",
    "param_sweep = cirq.Linspace('t', start=0, stop=2, length=200)\n",
    "\n",
    "s = cirq.Simulator()\n",
    "trials = s.run_sweep(circuit, param_sweep, repetitions=1000)\n",
    "\n",
    "\n",
    "x_data = [trial.params['t'] for trial in trials]\n",
    "y_data = [trial.histogram(key='m')[1]/1000.0 for trial in trials]\n",
    "plt.scatter('t','p', data={'t': x_data, 'p': y_data})"
   ]
  },
  {
   "cell_type": "markdown",
   "metadata": {},
   "source": [
    "Note the qubit is always initialized to 0. Applying $\\sigma_x^0=\\sigma_x^2=\\mathbb{I}$ gives 0, while applying $\\sigma_x^1$ gives 1."
   ]
  },
  {
   "cell_type": "markdown",
   "metadata": {},
   "source": [
    "It is also sometimes helpful to print the unitary matrix corresponding to a set of gates (recall qubit gates are always unitary). For a single qubit, this is represted in the $(0,1)^T$ basis, for 2 qubits, it is represnted in the $(00,01,10,11)^T$ basis."
   ]
  },
  {
   "cell_type": "code",
   "execution_count": 11,
   "metadata": {},
   "outputs": [
    {
     "name": "stdout",
     "output_type": "stream",
     "text": [
      "[[0.+0.j 1.+0.j]\n",
      " [1.+0.j 0.+0.j]]\n",
      "\n",
      "[[1.+0.j 0.+0.j 0.+0.j 0.+0.j]\n",
      " [0.+0.j 0.+0.j 1.+0.j 0.+0.j]\n",
      " [0.+0.j 1.+0.j 0.+0.j 0.+0.j]\n",
      " [0.+0.j 0.+0.j 0.+0.j 1.+0.j]]\n",
      "\n",
      "[[0.+0.j 0.+0.j 1.+0.j 0.+0.j]\n",
      " [1.+0.j 0.+0.j 0.+0.j 0.+0.j]\n",
      " [0.+0.j 0.+0.j 0.+0.j 1.+0.j]\n",
      " [0.+0.j 1.+0.j 0.+0.j 0.+0.j]]\n"
     ]
    }
   ],
   "source": [
    "print(cirq.unitary(cirq.X))\n",
    "print()\n",
    "q0, q1 = cirq.LineQubit.range(2)\n",
    "print(cirq.unitary(cirq.SWAP(q0,q1)))\n",
    "print()\n",
    "print(cirq.unitary(cirq.Circuit(cirq.X(q0),cirq.SWAP(q0,q1))))"
   ]
  },
  {
   "cell_type": "markdown",
   "metadata": {},
   "source": [
    "There are also optimization functions in Cirq that merge multiple consecutive gates into one unitary."
   ]
  },
  {
   "cell_type": "code",
   "execution_count": 12,
   "metadata": {},
   "outputs": [
    {
     "name": "stdout",
     "output_type": "stream",
     "text": [
      "(1, 1): ───X^0.25───Y^0.25───T───\n",
      "           ┌                           ┐\n",
      "(1, 1): ───│ 0.5  +0.707j -0.   -0.5j  │───────────\n",
      "           │ 0.354+0.354j  0.146+0.854j│\n",
      "           └                           ┘\n"
     ]
    }
   ],
   "source": [
    "q = cirq.GridQubit(1,1)\n",
    "optimizer = cirq.MergeSingleQubitGates()\n",
    "c = cirq.Circuit(cirq.X(q)**0.25, cirq.Y(q)**0.25,cirq.Z(q)**0.25)\n",
    "print(c)\n",
    "optimizer.optimize_circuit(c)\n",
    "print(c)"
   ]
  },
  {
   "cell_type": "markdown",
   "metadata": {},
   "source": [
    "# Example: Spin-1/2 in a magnetic field"
   ]
  },
  {
   "cell_type": "markdown",
   "metadata": {},
   "source": [
    "Let's construct a circuit that time-evolves a single spin-1/2 in a rotating magnetic field. The Hamiltonian is\n",
    "\\begin{eqnarray}\n",
    "\\mathcal{H}(t)=\\vec{H}(t)\\cdot\\vec{\\sigma},\n",
    "\\end{eqnarray}\n",
    "for the magnetic field $\\vec{H}(t)=H(\\sin\\theta(t),0,\\cos\\theta(t))$."
   ]
  },
  {
   "cell_type": "markdown",
   "metadata": {},
   "source": [
    "We cannot continuously change the magnetic field in a quantum circuit, so we have to do this through a series of gates. The way we implement this is a Trotter decmoposition. Setting $\\hbar=1$, the time-evolution operator is written as\n",
    "\\begin{eqnarray}\n",
    "U(t_f,t_0)&=&e^{-i\\int^{t_f}_{t_0}\\mathcal{H}(t')dt'}\\\\\n",
    "&=&e^{-i\\sum_{j=0}^N\\mathcal{H}(t_j)\\Delta t},\n",
    "\\end{eqnarray}\n",
    "where we have divided the time interval into $N$ steps of width $\\Delta t=\\frac{t_f-t_0}{N}$. \n",
    "\n",
    "Recall that $e^{\\Delta t(A+B)}=e^{\\Delta tA}e^{\\Delta tB}+\\mathcal{O}((\\Delta t)^2[A,B])$, so for $N$ sufficiently large, we can ignore the commutator terms in the time-evolution operator. This allows us to write\n",
    "\\begin{eqnarray}\n",
    "U(t_f,t_0)&\\approx&\\Pi_{j=0}^Ne^{-i\\Delta t H\\sin\\theta(t_j)\\sigma_x}e^{-i\\Delta t H\\cos\\theta(t_j)\\sigma_z}\n",
    "&=&\\Pi_{j=0}^Ng_x(t_j)g_z(t_j),\n",
    "\\end{eqnarray}\n",
    "where we have defined $g_x(t_j)$ and $g_z(t_j)$, the two rotation gates that will be applied in our circuit.\n",
    "\n",
    "First we initialize our qubit and circuit:"
   ]
  },
  {
   "cell_type": "code",
   "execution_count": 13,
   "metadata": {},
   "outputs": [],
   "source": [
    "import cirq\n",
    "import numpy as np\n",
    "import matplotlib.pyplot as plt\n",
    "import sympy\n",
    "\n",
    "q0 = cirq.LineQubit(1)\n",
    "c = cirq.Circuit()\n",
    "optimizer = cirq.MergeSingleQubitGates()"
   ]
  },
  {
   "cell_type": "markdown",
   "metadata": {},
   "source": [
    "Now we implement the Trotter decomposition. Here is a simple example with 2 steps. Note that our $g_x$ and $g_z$ gates are rotation operators. In Cirq the rotation gate $e^{i\\frac{\\phi}{2}\\sigma_x}$ is implemented using cirq.rx(rads=$\\phi$) and likewise for $\\sigma_z$"
   ]
  },
  {
   "cell_type": "code",
   "execution_count": 14,
   "metadata": {},
   "outputs": [
    {
     "name": "stdout",
     "output_type": "stream",
     "text": [
      "1: ───Rz(-π)───Rx(0)───Rz(0)───Rx(-π)───M('sz')───\n",
      "sz=1\n"
     ]
    }
   ],
   "source": [
    "Nsteps = 2\n",
    "H = 1\n",
    "v = 0.04 # Velocity of the magnetic field sweep\n",
    "tfinal = np.pi/v # Here we sweep from theta=0 to pi\n",
    "delt = tfinal/Nsteps\n",
    "for step in range(Nsteps):\n",
    "    theta = step/Nsteps*np.pi\n",
    "    gz = cirq.rz(rads=-2*delt*(H*np.cos(theta))) #factor of 2 because rotation defined /2\n",
    "    gx = cirq.rx(rads=-2*delt*(H*np.sin(theta)))\n",
    "    c.append(gz(q0))\n",
    "    c.append(gx(q0))\n",
    "\n",
    "c.append(cirq.measure(q0, key='sz'))\n",
    "print(c)\n",
    "\n",
    "s = cirq.Simulator()\n",
    "result = s.run(c)\n",
    "print(result)"
   ]
  },
  {
   "cell_type": "markdown",
   "metadata": {},
   "source": [
    "This simple 2-step decomposition has sucessfully flipped the spin. To see that the spin rotates with the magnetic field we can vary tfinal between 0 and $\\pi/v$ and plot the measurements. Note that a qubit measurement of 0 is interpreted as spin up, while a measurement of 1 is interpreted as spin down."
   ]
  },
  {
   "cell_type": "code",
   "execution_count": 15,
   "metadata": {},
   "outputs": [
    {
     "data": {
      "image/png": "[encoded data removed]",
      "text/plain": [
       "<Figure size 432x288 with 1 Axes>"
      ]
     },
     "metadata": {
      "needs_background": "light"
     },
     "output_type": "display_data"
    }
   ],
   "source": [
    "Nsteps = 200\n",
    "H = 1\n",
    "v = 0.04 # Velocity of the magnetic field sweep\n",
    "tfinal = 0.0\n",
    "x_data = []\n",
    "y_data = []\n",
    "while tfinal<np.pi/v:\n",
    "    q0 = cirq.LineQubit(1)\n",
    "    c = cirq.Circuit()\n",
    "    optimizer = cirq.MergeSingleQubitGates()\n",
    "    delt = tfinal/Nsteps\n",
    "    for step in range(Nsteps):\n",
    "        theta = step/Nsteps*v*tfinal\n",
    "        gz = cirq.rz(rads=-2*delt*(H*np.cos(theta)))\n",
    "        gx = cirq.rx(rads=-2*delt*(H*np.sin(theta)))\n",
    "        c.append(gz(q0))\n",
    "        c.append(gx(q0))\n",
    "\n",
    "    c.append(cirq.measure(q0, key='sz'))\n",
    "    optimizer.optimize_circuit(c)\n",
    "\n",
    "    s = cirq.Simulator()\n",
    "    reps = 900\n",
    "    result = s.run(c,repetitions=reps)\n",
    "    sigmaz = (result.histogram(key='sz')[0]-result.histogram(key='sz')[1])/reps\n",
    "\n",
    "    x_data.append(tfinal)\n",
    "    y_data.append(sigmaz)\n",
    "    tfinal += (np.pi/v)/30.0\n",
    "\n",
    "plt.xlabel(\"$t_f$\")\n",
    "plt.ylabel(\"$\\sigma_z$\")\n",
    "plt.scatter('x','y', data={'x': x_data, 'y': y_data})\n",
    "plt.show()"
   ]
  },
  {
   "cell_type": "markdown",
   "metadata": {},
   "source": [
    "# Exercise: Two coupled qubits"
   ]
  },
  {
   "cell_type": "markdown",
   "metadata": {},
   "source": [
    "Implement the Trotter decomposition of the 2-qubit Hamiltonian\n",
    "\\begin{eqnarray}\n",
    "\\mathcal{H}(t)=\\vec{H}(t)\\cdot\\vec{\\sigma}^1 + r\\sigma_z^1\\sigma_z^2.\n",
    "\\end{eqnarray}\n",
    "\n",
    "Plot $\\langle\\sigma_z^2(t)\\rangle$. \n",
    "\n",
    "Plot $\\langle\\sigma_z^2(t_f)\\rangle$ as a function of $r$.\n",
    "\n",
    "Hint: You will need to use the two-qubit parity gate cirq.ZZPowGate() with the right exponent and global shift: https://cirq.readthedocs.io/en/stable/generated/cirq.ZZPowGate.html"
   ]
  }
 ],
 "metadata": {
  "kernelspec": {
   "display_name": "Python 3",
   "language": "python",
   "name": "python3"
  },
  "language_info": {
   "codemirror_mode": {
    "name": "ipython",
    "version": 3
   },
   "file_extension": ".py",
   "mimetype": "text/x-python",
   "name": "python",
   "nbconvert_exporter": "python",
   "pygments_lexer": "ipython3",
   "version": "3.7.1"
  }
 },
 "nbformat": 4,
 "nbformat_minor": 2
}
